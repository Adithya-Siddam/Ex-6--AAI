{
  "nbformat": 4,
  "nbformat_minor": 0,
  "metadata": {
    "colab": {
      "provenance": [],
      "authorship_tag": "ABX9TyPfxpylwR65aQQAaYhoiWfy",
      "include_colab_link": true
    },
    "kernelspec": {
      "name": "python3",
      "display_name": "Python 3"
    },
    "language_info": {
      "name": "python"
    }
  },
  "cells": [
    {
      "cell_type": "markdown",
      "metadata": {
        "id": "view-in-github",
        "colab_type": "text"
      },
      "source": [
        "<a href=\"https://colab.research.google.com/github/Adithya-Siddam/Ex-6--AAI/blob/main/exp_06.ipynb\" target=\"_parent\"><img src=\"https://colab.research.google.com/assets/colab-badge.svg\" alt=\"Open In Colab\"/></a>"
      ]
    },
    {
      "cell_type": "markdown",
      "source": [
        "Name: S Adithya Chowdary\n",
        "\n",
        "Reg. No: 212221230100"
      ],
      "metadata": {
        "id": "aTzaLmpSAJLr"
      }
    },
    {
      "cell_type": "code",
      "execution_count": 5,
      "metadata": {
        "colab": {
          "base_uri": "https://localhost:8080/"
        },
        "id": "bltdsn26AGx6",
        "outputId": "e671f714-cf54-4b43-fce4-8381134c1cbb"
      },
      "outputs": [
        {
          "output_type": "stream",
          "name": "stderr",
          "text": [
            "[nltk_data] Downloading package averaged_perceptron_tagger to\n",
            "[nltk_data]     /root/nltk_data...\n",
            "[nltk_data]   Package averaged_perceptron_tagger is already up-to-\n",
            "[nltk_data]       date!\n",
            "[nltk_data] Downloading package wordnet to /root/nltk_data...\n",
            "[nltk_data]   Package wordnet is already up-to-date!\n",
            "[nltk_data] Downloading package punkt to /root/nltk_data...\n",
            "[nltk_data]   Package punkt is already up-to-date!\n"
          ]
        },
        {
          "output_type": "execute_result",
          "data": {
            "text/plain": [
              "True"
            ]
          },
          "metadata": {},
          "execution_count": 5
        }
      ],
      "source": [
        "import nltk\n",
        "from nltk.corpus import wordnet\n",
        "import csv\n",
        "nltk.download('averaged_perceptron_tagger')\n",
        "nltk.download('wordnet')\n",
        "nltk.download('punkt')\n",
        "\n"
      ]
    },
    {
      "cell_type": "code",
      "source": [
        "def get_verbs(sentence):\n",
        "    verbs = []\n",
        "    pos_tags = nltk.pos_tag(nltk.word_tokenize(sentence))\n",
        "    for word, tag in pos_tags:\n",
        "        if tag.startswith('V'):\n",
        "            verbs.append(word)\n",
        "    return verbs\n",
        "\n",
        "\n",
        "def get_synonyms(word):\n",
        "    synonyms = []\n",
        "    for syn in wordnet.synsets(word):\n",
        "        for lemma in syn.lemmas():\n",
        "            synonyms.append(lemma.name())\n",
        "    return synonyms\n",
        "\n",
        "\n",
        "def read_text_file(file_path):\n",
        "    with open(file_path, 'r') as file:\n",
        "        text = file.read()\n",
        "    return text\n",
        "\n",
        "\n",
        "def main():\n",
        "    file_path = 'sample.txt'\n",
        "\n",
        "    text = read_text_file(file_path)\n",
        "    sentences = nltk.sent_tokenize(text)\n",
        "\n",
        "    all_verbs = []\n",
        "    synonyms_dict = {}\n",
        "\n",
        "    for sentence in sentences:\n",
        "        verbs = get_verbs(sentence)\n",
        "        all_verbs.extend(verbs)\n",
        "        for verb in verbs:\n",
        "            synonyms = get_synonyms(verb)\n",
        "            synonyms_dict[verb] = synonyms\n",
        "\n",
        "    with open('output.csv', 'w', newline='') as csvfile:\n",
        "        writer = csv.writer(csvfile)\n",
        "        writer.writerow(['Verb', 'Synonyms'])\n",
        "        for verb, synonyms in synonyms_dict.items():\n",
        "            writer.writerow([verb, ', '.join(synonyms)])\n",
        "\n",
        "\n",
        "if __name__ == '__main__':\n",
        "    main()"
      ],
      "metadata": {
        "id": "UM1WtaKSASsD"
      },
      "execution_count": 6,
      "outputs": []
    }
  ]
}